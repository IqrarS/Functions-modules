{
 "cells": [
  {
   "cell_type": "code",
   "execution_count": 1,
   "id": "c8ae6c24",
   "metadata": {},
   "outputs": [
    {
     "name": "stdout",
     "output_type": "stream",
     "text": [
      "sum of numbers in list: 20\n"
     ]
    }
   ],
   "source": [
    "sum = 0\n",
    "list = [8,2,3,0,7]\n",
    "for num in range(0,len(list)):\n",
    "    sum = sum + list[num]\n",
    "print(\"sum of numbers in list:\",sum)    "
   ]
  }
 ],
 "metadata": {
  "kernelspec": {
   "display_name": "Python 3 (ipykernel)",
   "language": "python",
   "name": "python3"
  },
  "language_info": {
   "codemirror_mode": {
    "name": "ipython",
    "version": 3
   },
   "file_extension": ".py",
   "mimetype": "text/x-python",
   "name": "python",
   "nbconvert_exporter": "python",
   "pygments_lexer": "ipython3",
   "version": "3.9.13"
  }
 },
 "nbformat": 4,
 "nbformat_minor": 5
}
