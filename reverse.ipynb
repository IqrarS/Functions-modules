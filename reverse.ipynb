{
 "cells": [
  {
   "cell_type": "code",
   "execution_count": 13,
   "id": "a34a9d4c",
   "metadata": {},
   "outputs": [
    {
     "name": "stdout",
     "output_type": "stream",
     "text": [
      "given string: 1234abcd\n",
      "reversed string: dcba4321\n"
     ]
    }
   ],
   "source": [
    "def reverse(str):\n",
    "    s = \"\"\n",
    "    for ch in str:\n",
    "        s = ch + s\n",
    "    return s\n",
    "samplestring = \"1234abcd\"\n",
    "print(\"given string:\",samplestring)\n",
    "print(\"reversed string:\",reverse(samplestring))"
   ]
  }
 ],
 "metadata": {
  "kernelspec": {
   "display_name": "Python 3 (ipykernel)",
   "language": "python",
   "name": "python3"
  },
  "language_info": {
   "codemirror_mode": {
    "name": "ipython",
    "version": 3
   },
   "file_extension": ".py",
   "mimetype": "text/x-python",
   "name": "python",
   "nbconvert_exporter": "python",
   "pygments_lexer": "ipython3",
   "version": "3.9.13"
  }
 },
 "nbformat": 4,
 "nbformat_minor": 5
}
