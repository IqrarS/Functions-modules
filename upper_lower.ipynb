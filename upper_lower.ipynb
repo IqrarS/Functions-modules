{
 "cells": [
  {
   "cell_type": "code",
   "execution_count": 3,
   "id": "8da45757",
   "metadata": {},
   "outputs": [
    {
     "name": "stdout",
     "output_type": "stream",
     "text": [
      "No. of Upper case Characters: 3\n",
      "No. of Lower case Characters: 12\n"
     ]
    }
   ],
   "source": [
    "def fn_up_lo(str):\n",
    "    up_count=0\n",
    "    lo_count=0\n",
    "    for i in str:\n",
    "        if i.isupper():\n",
    "            up_count+=1\n",
    "        elif i.islower():\n",
    "              lo_count+=1\n",
    "        else:\n",
    "            pass\n",
    "    print(f\"No. of Upper case Characters: {up_count}\")\n",
    "    print(f\"No. of Lower case Characters: {lo_count}\")\n",
    "fn_up_lo(\"The quick Brow Fox\")"
   ]
  }
 ],
 "metadata": {
  "kernelspec": {
   "display_name": "Python 3 (ipykernel)",
   "language": "python",
   "name": "python3"
  },
  "language_info": {
   "codemirror_mode": {
    "name": "ipython",
    "version": 3
   },
   "file_extension": ".py",
   "mimetype": "text/x-python",
   "name": "python",
   "nbconvert_exporter": "python",
   "pygments_lexer": "ipython3",
   "version": "3.9.13"
  }
 },
 "nbformat": 4,
 "nbformat_minor": 5
}
